{
 "cells": [
  {
   "cell_type": "code",
   "execution_count": 1,
   "metadata": {},
   "outputs": [],
   "source": [
    "import os\n",
    "import sys\n",
    "import numpy as np\n",
    "import mujoco as mj\n",
    "from utils_prev.SimpleConverter import SimpleConverter\n"
   ]
  },
  {
   "cell_type": "code",
   "execution_count": 4,
   "metadata": {},
   "outputs": [],
   "source": [
    "ref = 'data/motion_standard_humanoid/humanoid3D_punch_duplicated.txt'\n",
    "\n",
    "trajectory = SimpleConverter(ref)\n",
    "trajectory.load_data()\n",
    "trajectory.load_mocap()"
   ]
  },
  {
   "cell_type": "code",
   "execution_count": 10,
   "metadata": {},
   "outputs": [
    {
     "name": "stdout",
     "output_type": "stream",
     "text": [
      "(130, 35)\n",
      "130\n"
     ]
    }
   ],
   "source": [
    "\n",
    "qpos = np.asarray(trajectory.data_pos)\n",
    "print(qpos.shape)\n",
    "\n",
    "lenght = qpos.shape[0]\n",
    "print(lenght)"
   ]
  },
  {
   "cell_type": "code",
   "execution_count": 12,
   "metadata": {},
   "outputs": [],
   "source": [
    "expert_traj_file = 'data/motion/punch_duplicated.p'\n",
    "os.makedirs(os.path.dirname(expert_traj_file), exist_ok=True)"
   ]
  },
  {
   "cell_type": "code",
   "execution_count": 13,
   "metadata": {},
   "outputs": [
    {
     "data": {
      "text/plain": [
       "{'dt': 0.03333333333333333,\n",
       " 'mocap_fr': 120,\n",
       " 'scale': 0.45,\n",
       " 'offset_z': 0.0,\n",
       " 'cyclic': False,\n",
       " 'cycle_offset': 0.0,\n",
       " 'select_start': 0,\n",
       " 'select_end': 130,\n",
       " 'fix_feet': False,\n",
       " 'fix_angle': False}"
      ]
     },
     "execution_count": 13,
     "metadata": {},
     "output_type": "execute_result"
    }
   ],
   "source": [
    "\n",
    "meta = {'dt': 1/30.0, 'mocap_fr': 120, 'scale': 0.45, 'offset_z': 0.0,\n",
    "        'cyclic': False, 'cycle_offset': 0.0,\n",
    "        'select_start': 0, 'select_end': lenght,\n",
    "        'fix_feet': False, 'fix_angle': False}\n",
    "\n",
    "meta"
   ]
  },
  {
   "cell_type": "code",
   "execution_count": 14,
   "metadata": {},
   "outputs": [],
   "source": [
    "import pickle"
   ]
  },
  {
   "cell_type": "code",
   "execution_count": 15,
   "metadata": {},
   "outputs": [],
   "source": [
    "pickle.dump((qpos, meta), open(expert_traj_file, 'wb'))"
   ]
  }
 ],
 "metadata": {
  "kernelspec": {
   "display_name": "gymRL",
   "language": "python",
   "name": "python3"
  },
  "language_info": {
   "codemirror_mode": {
    "name": "ipython",
    "version": 3
   },
   "file_extension": ".py",
   "mimetype": "text/x-python",
   "name": "python",
   "nbconvert_exporter": "python",
   "pygments_lexer": "ipython3",
   "version": "3.10.14"
  }
 },
 "nbformat": 4,
 "nbformat_minor": 2
}
