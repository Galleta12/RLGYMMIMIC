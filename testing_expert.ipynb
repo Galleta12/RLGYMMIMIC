{
 "cells": [
  {
   "cell_type": "code",
   "execution_count": 1,
   "metadata": {},
   "outputs": [],
   "source": [
    "import os\n",
    "import math\n",
    "import os\n",
    "import pickle\n",
    "import numpy as np\n",
    "import mujoco as mj\n",
    "from typing import Any, Dict, Optional, Tuple, Union\n",
    "import gymnasium as gym\n",
    "from rfc_utils.tools import get_expert\n",
    "from rfc_utils.config import Config\n"
   ]
  },
  {
   "cell_type": "code",
   "execution_count": 2,
   "metadata": {},
   "outputs": [
    {
     "data": {
      "text/plain": [
       "<rfc_utils.config.Config at 0x1b0b5146050>"
      ]
     },
     "execution_count": 2,
     "metadata": {},
     "output_type": "execute_result"
    }
   ],
   "source": [
    "cfg_id = '050100'\n",
    "\n",
    "cfg = Config(cfg_id, False, create_dirs=False)\n",
    "\n",
    "cfg\n"
   ]
  },
  {
   "cell_type": "code",
   "execution_count": 3,
   "metadata": {},
   "outputs": [
    {
     "name": "stdout",
     "output_type": "stream",
     "text": [
      "this is the model_path mocap_v2.xml\n"
     ]
    },
    {
     "data": {
      "text/plain": [
       "<agent_envs.humanoid_env.HumanoidTemplate at 0x1b0e5c91a80>"
      ]
     },
     "execution_count": 3,
     "metadata": {},
     "output_type": "execute_result"
    }
   ],
   "source": [
    "from agent_envs.humanoid_env import HumanoidTemplate\n",
    "\n",
    "\n",
    "env = HumanoidTemplate(cfg)\n",
    "\n",
    "env"
   ]
  },
  {
   "cell_type": "markdown",
   "metadata": {},
   "source": [
    "Understaing Expert"
   ]
  },
  {
   "cell_type": "code",
   "execution_count": 4,
   "metadata": {},
   "outputs": [
    {
     "name": "stdout",
     "output_type": "stream",
     "text": [
      "{'dt': 0.03333333333333333, 'mocap_fr': 120, 'scale': 0.45, 'offset_z': 0.0, 'cyclic': False, 'cycle_offset': 0.0, 'select_start': 0, 'select_end': 104, 'fix_feet': False, 'fix_angle': False}\n",
      "(104, 39)\n"
     ]
    }
   ],
   "source": [
    "expert_qpos, expert_meta = pickle.load(open(cfg.expert_traj_file, \"rb\"))\n",
    "print(expert_meta)\n",
    "print(expert_qpos.shape)\n",
    "\n"
   ]
  },
  {
   "cell_type": "code",
   "execution_count": 5,
   "metadata": {},
   "outputs": [
    {
     "data": {
      "text/plain": [
       "10"
      ]
     },
     "execution_count": 5,
     "metadata": {},
     "output_type": "execute_result"
    }
   ],
   "source": [
    "cfg.env_expert_trail_steps"
   ]
  },
  {
   "cell_type": "code",
   "execution_count": 6,
   "metadata": {},
   "outputs": [
    {
     "data": {
      "text/plain": [
       "Box(-1.0, 1.0, (38,), float32)"
      ]
     },
     "execution_count": 6,
     "metadata": {},
     "output_type": "execute_result"
    }
   ],
   "source": [
    "env.action_space"
   ]
  },
  {
   "cell_type": "code",
   "execution_count": 7,
   "metadata": {},
   "outputs": [
    {
     "data": {
      "text/plain": [
       "(24, 3)"
      ]
     },
     "execution_count": 7,
     "metadata": {},
     "output_type": "execute_result"
    }
   ],
   "source": [
    "env.data.xpos.shape"
   ]
  },
  {
   "cell_type": "code",
   "execution_count": 8,
   "metadata": {},
   "outputs": [
    {
     "name": "stdout",
     "output_type": "stream",
     "text": [
      "[ 0.99805859  0.04664509 -0.01407097  0.03879804]\n"
     ]
    }
   ],
   "source": [
    "root = env.expert['bquat'][0,:4]\n",
    "print(root)\n"
   ]
  },
  {
   "cell_type": "code",
   "execution_count": 9,
   "metadata": {},
   "outputs": [],
   "source": [
    "\n",
    "def multi_quat_norm(nq):\n",
    "    \"\"\"return the scalar rotation of a N joints\"\"\"\n",
    "\n",
    "    nq_norm = np.arccos(np.clip(abs(nq[::4]), -1.0, 1.0))\n",
    "    return nq_norm"
   ]
  },
  {
   "cell_type": "code",
   "execution_count": 10,
   "metadata": {},
   "outputs": [],
   "source": [
    "import mujoco as mj\n"
   ]
  },
  {
   "cell_type": "code",
   "execution_count": 11,
   "metadata": {},
   "outputs": [
    {
     "name": "stdout",
     "output_type": "stream",
     "text": [
      "9\n",
      "(27,)\n"
     ]
    }
   ],
   "source": [
    "n_joint =env.data.qpos.shape[0]//4\n",
    "body_angvel = np.zeros(n_joint * 3)\n",
    "\n",
    "print(n_joint)\n",
    "print(body_angvel.shape)\n",
    "ind = slice(0,0+4)\n",
    "#ind\n",
    "#env.data.qpos.reshape(-1,4)\n"
   ]
  },
  {
   "cell_type": "code",
   "execution_count": 12,
   "metadata": {},
   "outputs": [],
   "source": [
    "expert=env.expert\n",
    "\n"
   ]
  },
  {
   "cell_type": "markdown",
   "metadata": {},
   "source": [
    "Computing new expert"
   ]
  },
  {
   "cell_type": "code",
   "execution_count": 13,
   "metadata": {},
   "outputs": [],
   "source": [
    "from some_math.math_utils import *"
   ]
  },
  {
   "cell_type": "code",
   "execution_count": 14,
   "metadata": {},
   "outputs": [
    {
     "data": {
      "text/plain": [
       "'root'"
      ]
     },
     "execution_count": 14,
     "metadata": {},
     "output_type": "execute_result"
    }
   ],
   "source": [
    "env.cfg.obs_coord"
   ]
  },
  {
   "cell_type": "code",
   "execution_count": 15,
   "metadata": {},
   "outputs": [],
   "source": [
    "def get_expert(expert_qpos, expert_meta, env):\n",
    "    # Save the old state\n",
    "    old_state_qpos = env.data.qpos.copy()\n",
    "    old_state_qvel = env.data.qvel.copy()\n",
    "\n",
    "    expert = {'qpos': expert_qpos, 'meta': expert_meta}\n",
    "    feat_keys = {'qvel', 'rlinv', 'rlinv_local', 'rangv', 'rq_rmh',\n",
    "                 'com', 'head_pos', 'ee_pos', 'ee_wpos', 'bquat', 'bangvel'}\n",
    "    for key in feat_keys:\n",
    "        expert[key] = []\n",
    "\n",
    "    for i in range(expert_qpos.shape[0]):\n",
    "        qpos = expert_qpos[i]\n",
    "        env.data.qpos[:] = qpos\n",
    "        mj.mj_forward(env.model, env.data)  # Advance the simulation to the current state\n",
    "        \n",
    "        rq_rmh = de_heading(qpos[3:7])\n",
    "        ee_pos = env.get_ee_pos(env.cfg.obs_coord)\n",
    "        ee_wpos = env.get_ee_pos(None)\n",
    "        bquat = env.get_body_quat()\n",
    "        com = env.get_com()\n",
    "        head_pos = env.get_body_com('head').copy()\n",
    "        \n",
    "        if i > 0:\n",
    "            prev_qpos = expert_qpos[i - 1]\n",
    "            qvel = get_qvel_fd_new(prev_qpos, qpos, env.dt)\n",
    "            qvel = qvel.clip(-10.0, 10.0)\n",
    "            rlinv = qvel[:3].copy()\n",
    "            if env.cfg.obs_coord =='root':\n",
    "                rlinv_local = transform_vec(qvel[:3].copy(), qpos[3:7])\n",
    "            else:\n",
    "                hq = get_heading_q(qpos[3:7])\n",
    "                rlinv_local = transform_vec(qvel[:3].copy(), hq)\n",
    "                \n",
    "            rangv = qvel[3:6].copy()\n",
    "            expert['qvel'].append(qvel)\n",
    "            expert['rlinv'].append(rlinv)\n",
    "            expert['rlinv_local'].append(rlinv_local)\n",
    "            expert['rangv'].append(rangv)\n",
    "        \n",
    "        expert['ee_pos'].append(ee_pos)\n",
    "        expert['ee_wpos'].append(ee_wpos)\n",
    "        expert['bquat'].append(bquat)\n",
    "        expert['com'].append(com)\n",
    "        expert['head_pos'].append(head_pos)\n",
    "        expert['rq_rmh'].append(rq_rmh)\n",
    "\n",
    "    expert['qvel'].insert(0, expert['qvel'][0].copy())\n",
    "    expert['rlinv'].insert(0, expert['rlinv'][0].copy())\n",
    "    expert['rlinv_local'].insert(0, expert['rlinv_local'][0].copy())\n",
    "    expert['rangv'].insert(0, expert['rangv'][0].copy())\n",
    "\n",
    "    # Get expert body quaternions\n",
    "    for i in range(1, expert_qpos.shape[0]):\n",
    "        bangvel = get_angvel_fd(expert['bquat'][i - 1], expert['bquat'][i], env.dt)\n",
    "        expert['bangvel'].append(bangvel)\n",
    "    expert['bangvel'].insert(0, expert['bangvel'][0].copy())\n",
    "\n",
    "    for key in feat_keys:\n",
    "        expert[key] = np.vstack(expert[key])\n",
    "    expert['len'] = expert['qpos'].shape[0]\n",
    "    expert['height_lb'] = expert['qpos'][:, 2].min()\n",
    "    expert['head_height_lb'] = expert['head_pos'][:, 2].min()\n",
    "    if expert_meta.get('cyclic', False):\n",
    "        expert['init_heading'] = get_heading_q(expert_qpos[0, 3:7])\n",
    "        expert['init_pos'] = expert_qpos[0, :3].copy()\n",
    "\n",
    "    # Restore the old state\n",
    "    env.data.qpos[:] = old_state_qpos\n",
    "    env.data.qvel[:] = old_state_qvel\n",
    "    mj.mj_forward(env.model, env.data)\n",
    "    \n",
    "    return expert"
   ]
  },
  {
   "cell_type": "code",
   "execution_count": 16,
   "metadata": {},
   "outputs": [],
   "source": [
    "new_expert = get_expert(expert_qpos,expert_meta,env)"
   ]
  },
  {
   "cell_type": "code",
   "execution_count": 17,
   "metadata": {},
   "outputs": [
    {
     "name": "stdout",
     "output_type": "stream",
     "text": [
      "{'qpos': <class 'numpy.ndarray'>, 'meta': <class 'dict'>, 'ee_pos': <class 'numpy.ndarray'>, 'qvel': <class 'numpy.ndarray'>, 'ee_wpos': <class 'numpy.ndarray'>, 'head_pos': <class 'numpy.ndarray'>, 'bangvel': <class 'numpy.ndarray'>, 'rq_rmh': <class 'numpy.ndarray'>, 'rlinv_local': <class 'numpy.ndarray'>, 'rlinv': <class 'numpy.ndarray'>, 'rangv': <class 'numpy.ndarray'>, 'bquat': <class 'numpy.ndarray'>, 'com': <class 'numpy.ndarray'>, 'len': <class 'int'>, 'height_lb': <class 'numpy.float64'>, 'head_height_lb': <class 'numpy.float64'>}\n"
     ]
    }
   ],
   "source": [
    "types_dict = {key: type(value) for key, value in new_expert.items()}\n",
    "\n",
    "print(types_dict)"
   ]
  },
  {
   "cell_type": "code",
   "execution_count": 18,
   "metadata": {},
   "outputs": [
    {
     "name": "stdout",
     "output_type": "stream",
     "text": [
      "{'dt': 0.03333333333333333, 'mocap_fr': 120, 'scale': 0.45, 'offset_z': 0.0, 'cyclic': False, 'cycle_offset': 0.0, 'select_start': 0, 'select_end': 104, 'fix_feet': False, 'fix_angle': False}\n",
      "{'dt': 0.03333333333333333, 'mocap_fr': 120, 'scale': 0.45, 'offset_z': 0.0, 'cyclic': False, 'cycle_offset': 0.0, 'select_start': 0, 'select_end': 104, 'fix_feet': False, 'fix_angle': False}\n"
     ]
    }
   ],
   "source": [
    "meta_ex = expert['meta']\n",
    "meta_new_ex = new_expert['meta']\n",
    "\n",
    "print(meta_ex)\n",
    "print(meta_new_ex)"
   ]
  },
  {
   "cell_type": "code",
   "execution_count": 45,
   "metadata": {},
   "outputs": [],
   "source": [
    "def compare_dict_arrays(new_expert, expert, tol=1e-14):\n",
    "    # Iterate over keys in new_expert\n",
    "    for key in new_expert.keys():\n",
    "        if key == 'meta' or key=='len':\n",
    "            continue  # Skip the 'meta' key since it is a dictionary\n",
    "        \n",
    "        # Check if the key exists in both dictionaries\n",
    "        if key in expert:\n",
    "            # Compare numpy arrays\n",
    "            arr1 = new_expert[key]\n",
    "            arr2 = expert[key]\n",
    "            \n",
    "            # Check if arrays are of the same shape\n",
    "            if arr1.shape != arr2.shape:\n",
    "                print(f\"Shape mismatch in key: {key}, new_expert shape: {arr1.shape}, expert shape: {arr2.shape}\")\n",
    "                continue\n",
    "            \n",
    "            # Find differences within the tolerance\n",
    "            diff_indices = np.where(np.abs(arr1 - arr2) > tol)\n",
    "            if diff_indices[0].size > 0:\n",
    "                print(f\"Differences found in key: {key}\")\n",
    "                for index in zip(*diff_indices):\n",
    "                    print(f\"  Difference at index {index}: new_expert value = {arr1[index]}, expert value = {arr2[index]}\")"
   ]
  },
  {
   "cell_type": "code",
   "execution_count": 46,
   "metadata": {},
   "outputs": [
    {
     "name": "stdout",
     "output_type": "stream",
     "text": [
      "Differences found in key: bangvel\n",
      "  Difference at index (30, 13): new_expert value = 3.1152444871863545, expert value = 3.1152444871862923\n"
     ]
    }
   ],
   "source": [
    "compare_dict_arrays(new_expert, expert)"
   ]
  }
 ],
 "metadata": {
  "kernelspec": {
   "display_name": "gymRL",
   "language": "python",
   "name": "python3"
  },
  "language_info": {
   "codemirror_mode": {
    "name": "ipython",
    "version": 3
   },
   "file_extension": ".py",
   "mimetype": "text/x-python",
   "name": "python",
   "nbconvert_exporter": "python",
   "pygments_lexer": "ipython3",
   "version": "3.10.14"
  }
 },
 "nbformat": 4,
 "nbformat_minor": 2
}
